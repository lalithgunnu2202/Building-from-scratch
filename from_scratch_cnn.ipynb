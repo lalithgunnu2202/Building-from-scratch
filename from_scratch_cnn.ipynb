{
  "nbformat": 4,
  "nbformat_minor": 0,
  "metadata": {
    "colab": {
      "provenance": [],
      "authorship_tag": "ABX9TyMiGDH30sniKZJa9iin1VI1",
      "include_colab_link": true
    },
    "kernelspec": {
      "name": "python3",
      "display_name": "Python 3"
    },
    "language_info": {
      "name": "python"
    }
  },
  "cells": [
    {
      "cell_type": "markdown",
      "metadata": {
        "id": "view-in-github",
        "colab_type": "text"
      },
      "source": [
        "<a href=\"https://colab.research.google.com/github/lalithgunnu2202/Building-from-scratch/blob/main/from_scratch_cnn.ipynb\" target=\"_parent\"><img src=\"https://colab.research.google.com/assets/colab-badge.svg\" alt=\"Open In Colab\"/></a>"
      ]
    },
    {
      "cell_type": "code",
      "execution_count": 142,
      "metadata": {
        "id": "TsROmNdCV8H8"
      },
      "outputs": [],
      "source": [
        "import numpy as np"
      ]
    },
    {
      "cell_type": "code",
      "source": [
        "# 2d image\n",
        "x = [\n",
        "    [5,2,4,5,4,6],\n",
        "    [2,5,6,8,4,5],\n",
        "    [2,5,6,6,5,2],\n",
        "    [6,5,4,1,2,4],\n",
        "    [1,5,3,3,7,9],\n",
        "    [1,5,2,4,7,8],\n",
        "]\n",
        "# filter\n",
        "f = [\n",
        "    [5,6,8],\n",
        "    [2,8,7],\n",
        "    [4,6,3],\n",
        "]"
      ],
      "metadata": {
        "id": "aSN9Afm1WGQ6"
      },
      "execution_count": 143,
      "outputs": []
    },
    {
      "cell_type": "code",
      "source": [
        "def maxpool(a, size =2, stride=2):\n",
        "  curr_h,curr_w = a.shape\n",
        "  mxp_h,mxp_w = (curr_h-size)//2 +1 , (curr_w-size)//2+1\n",
        "  mxp= np.zeros((mxp_h,mxp_w))\n",
        "\n",
        "  for i in range(0,curr_h-size+1, stride):\n",
        "    for j in range(0,curr_w-size+1, stride):\n",
        "      reg = a[i:i+size, j:j+size]\n",
        "      mxp[i//2,j//2] = np.max(reg)\n",
        "\n",
        "  return mxp"
      ],
      "metadata": {
        "id": "bzndlbkM1kTB"
      },
      "execution_count": 144,
      "outputs": []
    },
    {
      "cell_type": "code",
      "source": [
        "# conv formula\n",
        "def conv(x,f):\n",
        "  x= np.array(x)\n",
        "  f= np.array(f)\n",
        "  img_h, img_w = x.shape\n",
        "  fil_h, fil_w = f.shape\n",
        "\n",
        "  con_m_h = img_h-fil_h + 1\n",
        "  con_m_w = img_w-fil_w + 1\n",
        "\n",
        "  con_m = np.zeros((con_m_h,con_m_w))\n",
        "  for i in range(con_m_h):\n",
        "    for j in range(con_m_w):\n",
        "      region = x[i:i+fil_h, j:j+fil_w]\n",
        "      con_m[i,j] = np.sum(region*f)\n",
        "\n",
        "  return con_m"
      ],
      "metadata": {
        "id": "LZT93mRSZU-z"
      },
      "execution_count": 145,
      "outputs": []
    },
    {
      "cell_type": "code",
      "source": [
        "def Relu(a):\n",
        "  return np.maximum(0,a)"
      ],
      "metadata": {
        "id": "XQkmHyfixcbS"
      },
      "execution_count": 146,
      "outputs": []
    },
    {
      "cell_type": "code",
      "source": [
        "class neuron:\n",
        "  def __init__(self,nin):\n",
        "    self.w = np.random.uniform(-1,1,nin)\n",
        "    self.b= np.zeros((1,1))\n",
        "\n",
        "  def __call__(self,x):\n",
        "    self.z = self.w.dot(x)+self.b\n",
        "    # print(self.w,self.b)\n",
        "    return self.z\n",
        "\n",
        "class Layer:\n",
        "  def __init__(self, nin,num):\n",
        "    self.neurons = [neuron(nin) for _ in range(num)]\n",
        "\n",
        "  def __call__(self,x):\n",
        "    outs = [n(x) for n in self.neurons]\n",
        "    return outs"
      ],
      "metadata": {
        "id": "yP9aAk0JCPMm"
      },
      "execution_count": 154,
      "outputs": []
    },
    {
      "cell_type": "code",
      "source": [
        "def softmax(z):\n",
        "    z = z - np.max(z)  # subtract max for numerical stability\n",
        "    exp_z = np.exp(z)\n",
        "    return exp_z / np.sum(exp_z, axis=0, keepdims=True)\n"
      ],
      "metadata": {
        "id": "EPl0urxwPSMA"
      },
      "execution_count": 148,
      "outputs": []
    },
    {
      "cell_type": "code",
      "source": [
        "A1 = Relu(conv(x,f))\n",
        "# print(A1)"
      ],
      "metadata": {
        "id": "FK7H_EK0x9UK"
      },
      "execution_count": 149,
      "outputs": []
    },
    {
      "cell_type": "code",
      "source": [
        "mxp_m = maxpool(A1)\n",
        "# print(mxp_m)"
      ],
      "metadata": {
        "id": "H6wcYJko1BNZ"
      },
      "execution_count": 150,
      "outputs": []
    },
    {
      "cell_type": "code",
      "source": [
        "F = mxp_m.flatten()\n"
      ],
      "metadata": {
        "id": "33Eoujog3Hew"
      },
      "execution_count": 151,
      "outputs": []
    },
    {
      "cell_type": "code",
      "source": [
        "l1 = Layer(F.size,1)\n",
        "z2 = l1(F)\n",
        "a2 = Relu(z2)\n",
        "print(a2)"
      ],
      "metadata": {
        "colab": {
          "base_uri": "https://localhost:8080/"
        },
        "id": "dKlslxNEC7Op",
        "outputId": "197fb004-b14b-46dc-f125-a9014e84f9ab"
      },
      "execution_count": 155,
      "outputs": [
        {
          "output_type": "stream",
          "name": "stdout",
          "text": [
            "[[[480.76499222]]]\n"
          ]
        }
      ]
    },
    {
      "cell_type": "code",
      "source": [],
      "metadata": {
        "id": "tl8wkbWLOoYB"
      },
      "execution_count": 152,
      "outputs": []
    }
  ]
}